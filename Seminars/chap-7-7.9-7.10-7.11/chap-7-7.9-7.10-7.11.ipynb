{
 "cells": [
  {
   "cell_type": "markdown",
   "metadata": {},
   "source": [
    "## 7.9 Parameter Tying and Parameter Sharing\n",
    "sometimes we may need other ways to express our prior knowledge about suitable values of the model parameters.\n",
    "\n",
    "Sometimes we might not know precisely what values the parameters should take but we know, from knowledge of the domain and model architecture, that there should be some **dependencies** between the model parameters.\n",
    "\n",
    "A common type of dependency that we often want to express is that certain parameters should be close to one another.\n",
    "\n",
    "Ex: we have model\n",
    "A with parameters w(A) and model B with parameters w(B). The two models\n",
    "map the input to two different, but related outputs: y ˆ(A) = f(w(A), x) and\n",
    "y ˆ(B) = g(w(B), x)\n",
    "\n",
    "we believe the model parameters should be close\n",
    "to each other: ∀i, wi(A) should be close to w( iB)"
   ]
  }
 ],
 "metadata": {
  "kernelspec": {
   "display_name": "Python 3",
   "language": "python",
   "name": "python3"
  },
  "language_info": {
   "codemirror_mode": {
    "name": "ipython",
    "version": 3
   },
   "file_extension": ".py",
   "mimetype": "text/x-python",
   "name": "python",
   "nbconvert_exporter": "python",
   "pygments_lexer": "ipython3",
   "version": "3.6.4"
  }
 },
 "nbformat": 4,
 "nbformat_minor": 2
}

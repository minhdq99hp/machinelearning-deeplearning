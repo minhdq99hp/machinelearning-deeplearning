{
 "cells": [
  {
   "cell_type": "markdown",
   "metadata": {},
   "source": [
    "# Classifying Movie Reviews\n",
    "\n",
    "## Loading the IMDB dataset"
   ]
  },
  {
   "cell_type": "code",
   "execution_count": 1,
   "metadata": {},
   "outputs": [
    {
     "name": "stderr",
     "output_type": "stream",
     "text": [
      "/home/hailoc12/anaconda3/lib/python3.6/site-packages/h5py/__init__.py:36: FutureWarning: Conversion of the second argument of issubdtype from `float` to `np.floating` is deprecated. In future, it will be treated as `np.float64 == np.dtype(float).type`.\n",
      "  from ._conv import register_converters as _register_converters\n",
      "Using TensorFlow backend.\n"
     ]
    }
   ],
   "source": [
    "from keras.datasets import imdb\n",
    "\n",
    "(train_data, train_labels), (test_data, test_labels) = imdb.load_data(num_words=10000)"
   ]
  },
  {
   "cell_type": "markdown",
   "metadata": {},
   "source": [
    "### Encoding the integer sequences into a binary matrix"
   ]
  },
  {
   "cell_type": "code",
   "execution_count": 2,
   "metadata": {},
   "outputs": [],
   "source": [
    "import numpy as np\n",
    "\n",
    "def vectorize_sequences(sequences, dimension=10000):\n",
    "    results = np.zeros((len(sequences), dimension))\n",
    "    for i, sequence in enumerate(sequences):\n",
    "        results[i, sequence] = 1\n",
    "    return results\n",
    "\n",
    "x_train = vectorize_sequences(train_data)\n",
    "x_test = vectorize_sequences(test_data)\n",
    "\n",
    "y_train = np.asarray(train_labels).astype('float32')\n",
    "y_test = np.asarray(test_labels).astype('float32')"
   ]
  },
  {
   "cell_type": "code",
   "execution_count": 3,
   "metadata": {},
   "outputs": [
    {
     "name": "stdout",
     "output_type": "stream",
     "text": [
      "[1, 14, 22, 16, 43, 530, 973, 1622, 1385, 65, 458, 4468, 66, 3941, 4, 173, 36, 256, 5, 25, 100, 43, 838, 112, 50, 670, 2, 9, 35, 480, 284, 5, 150, 4, 172, 112, 167, 2, 336, 385, 39, 4, 172, 4536, 1111, 17, 546, 38, 13, 447, 4, 192, 50, 16, 6, 147, 2025, 19, 14, 22, 4, 1920, 4613, 469, 4, 22, 71, 87, 12, 16, 43, 530, 38, 76, 15, 13, 1247, 4, 22, 17, 515, 17, 12, 16, 626, 18, 2, 5, 62, 386, 12, 8, 316, 8, 106, 5, 4, 2223, 5244, 16, 480, 66, 3785, 33, 4, 130, 12, 16, 38, 619, 5, 25, 124, 51, 36, 135, 48, 25, 1415, 33, 6, 22, 12, 215, 28, 77, 52, 5, 14, 407, 16, 82, 2, 8, 4, 107, 117, 5952, 15, 256, 4, 2, 7, 3766, 5, 723, 36, 71, 43, 530, 476, 26, 400, 317, 46, 7, 4, 2, 1029, 13, 104, 88, 4, 381, 15, 297, 98, 32, 2071, 56, 26, 141, 6, 194, 7486, 18, 4, 226, 22, 21, 134, 476, 26, 480, 5, 144, 30, 5535, 18, 51, 36, 28, 224, 92, 25, 104, 4, 226, 65, 16, 38, 1334, 88, 12, 16, 283, 5, 16, 4472, 113, 103, 32, 15, 16, 5345, 19, 178, 32]\n"
     ]
    },
    {
     "data": {
      "text/plain": [
       "array([0., 1., 1., ..., 0., 0., 0.])"
      ]
     },
     "execution_count": 3,
     "metadata": {},
     "output_type": "execute_result"
    }
   ],
   "source": [
    "print(train_data[0])\n",
    "x_train[0]"
   ]
  },
  {
   "cell_type": "markdown",
   "metadata": {},
   "source": [
    "## Building your network"
   ]
  },
  {
   "cell_type": "code",
   "execution_count": 4,
   "metadata": {},
   "outputs": [],
   "source": [
    "from keras import models\n",
    "from keras import layers\n",
    "\n",
    "model = models.Sequential()\n",
    "\n",
    "model.add(layers.Dense(16, activation='relu', input_shape=(10000,)))\n",
    "model.add(layers.Dense(16, activation='relu'))\n",
    "model.add(layers.Dense(1, activation='sigmoid'))"
   ]
  },
  {
   "cell_type": "markdown",
   "metadata": {},
   "source": [
    "## Compiling the model"
   ]
  },
  {
   "cell_type": "code",
   "execution_count": 5,
   "metadata": {},
   "outputs": [],
   "source": [
    "model.compile(optimizer='rmsprop', loss='binary_crossentropy', metrics=['accuracy'])"
   ]
  },
  {
   "cell_type": "markdown",
   "metadata": {},
   "source": [
    "## Validating your approach"
   ]
  },
  {
   "cell_type": "code",
   "execution_count": 6,
   "metadata": {},
   "outputs": [],
   "source": [
    "x_val = x_train[:10000]\n",
    "partial_x_train = x_train[10000:]\n",
    "\n",
    "y_val = y_train[:10000]\n",
    "partial_y_train = y_train[10000:]"
   ]
  },
  {
   "cell_type": "markdown",
   "metadata": {},
   "source": [
    "## Training your model"
   ]
  },
  {
   "cell_type": "code",
   "execution_count": 7,
   "metadata": {},
   "outputs": [
    {
     "name": "stdout",
     "output_type": "stream",
     "text": [
      "Train on 15000 samples, validate on 10000 samples\n",
      "Epoch 1/20\n",
      "15000/15000 [==============================] - 2s 142us/step - loss: 0.5085 - acc: 0.7811 - val_loss: 0.3798 - val_acc: 0.8682\n",
      "Epoch 2/20\n",
      "15000/15000 [==============================] - 2s 131us/step - loss: 0.3005 - acc: 0.9047 - val_loss: 0.3003 - val_acc: 0.8904\n",
      "Epoch 3/20\n",
      "15000/15000 [==============================] - 2s 131us/step - loss: 0.2179 - acc: 0.9279 - val_loss: 0.3080 - val_acc: 0.8720\n",
      "Epoch 4/20\n",
      "15000/15000 [==============================] - 2s 127us/step - loss: 0.1750 - acc: 0.9435 - val_loss: 0.2841 - val_acc: 0.8833\n",
      "Epoch 5/20\n",
      "15000/15000 [==============================] - 2s 134us/step - loss: 0.1426 - acc: 0.9543 - val_loss: 0.2848 - val_acc: 0.8865\n",
      "Epoch 6/20\n",
      "15000/15000 [==============================] - 2s 128us/step - loss: 0.1149 - acc: 0.9651 - val_loss: 0.3145 - val_acc: 0.8779\n",
      "Epoch 7/20\n",
      "15000/15000 [==============================] - 2s 133us/step - loss: 0.0978 - acc: 0.9709 - val_loss: 0.3128 - val_acc: 0.8844\n",
      "Epoch 8/20\n",
      "15000/15000 [==============================] - 2s 128us/step - loss: 0.0807 - acc: 0.9763 - val_loss: 0.3848 - val_acc: 0.8658\n",
      "Epoch 9/20\n",
      "15000/15000 [==============================] - 2s 132us/step - loss: 0.0660 - acc: 0.9820 - val_loss: 0.3629 - val_acc: 0.8781\n",
      "Epoch 10/20\n",
      "15000/15000 [==============================] - 2s 127us/step - loss: 0.0553 - acc: 0.9856 - val_loss: 0.3845 - val_acc: 0.8795\n",
      "Epoch 11/20\n",
      "15000/15000 [==============================] - 2s 132us/step - loss: 0.0455 - acc: 0.9887 - val_loss: 0.4168 - val_acc: 0.8768\n",
      "Epoch 12/20\n",
      "15000/15000 [==============================] - 2s 129us/step - loss: 0.0383 - acc: 0.9915 - val_loss: 0.4505 - val_acc: 0.8703\n",
      "Epoch 13/20\n",
      "15000/15000 [==============================] - 2s 130us/step - loss: 0.0296 - acc: 0.9935 - val_loss: 0.4696 - val_acc: 0.8733\n",
      "Epoch 14/20\n",
      "15000/15000 [==============================] - 2s 127us/step - loss: 0.0242 - acc: 0.9949 - val_loss: 0.5019 - val_acc: 0.8719\n",
      "Epoch 15/20\n",
      "15000/15000 [==============================] - 2s 135us/step - loss: 0.0178 - acc: 0.9977 - val_loss: 0.5331 - val_acc: 0.8699\n",
      "Epoch 16/20\n",
      "15000/15000 [==============================] - 2s 127us/step - loss: 0.0160 - acc: 0.9978 - val_loss: 0.5724 - val_acc: 0.8686\n",
      "Epoch 17/20\n",
      "15000/15000 [==============================] - 2s 130us/step - loss: 0.0104 - acc: 0.9991 - val_loss: 0.6250 - val_acc: 0.8639\n",
      "Epoch 18/20\n",
      "15000/15000 [==============================] - 2s 128us/step - loss: 0.0118 - acc: 0.9973 - val_loss: 0.6435 - val_acc: 0.8669\n",
      "Epoch 19/20\n",
      "15000/15000 [==============================] - 2s 130us/step - loss: 0.0053 - acc: 0.9997 - val_loss: 0.7225 - val_acc: 0.8573\n",
      "Epoch 20/20\n",
      "15000/15000 [==============================] - 2s 128us/step - loss: 0.0090 - acc: 0.9980 - val_loss: 0.7023 - val_acc: 0.8666\n"
     ]
    }
   ],
   "source": [
    "history = model.fit(partial_x_train, partial_y_train, epochs=20, batch_size=512, validation_data=(x_val, y_val))"
   ]
  },
  {
   "cell_type": "code",
   "execution_count": 8,
   "metadata": {},
   "outputs": [
    {
     "name": "stdout",
     "output_type": "stream",
     "text": [
      "{'val_loss': [0.3797828854084015, 0.3002715509414673, 0.3079736710548401, 0.2841241054534912, 0.2848057008743286, 0.3144849942207336, 0.31277039461135864, 0.38481982126235964, 0.3629287442207336, 0.3844948916912079, 0.4168118339538574, 0.4504692768096924, 0.469646422958374, 0.5019171131134034, 0.5330981777667999, 0.5723818145751953, 0.6249923308372498, 0.6434890565872192, 0.722546506023407, 0.7023214141845703], 'val_acc': [0.8681999997138977, 0.8904000003814697, 0.8720000001907349, 0.8833000001907348, 0.8865000002861023, 0.8778999999046325, 0.8843999999046326, 0.8657999997138977, 0.8781000000953675, 0.8795000001907348, 0.8767999998092652, 0.8702999998092651, 0.8732999997138977, 0.8718999996185303, 0.8698999998092651, 0.8685999995231628, 0.8638999995231629, 0.8668999996185303, 0.857299999332428, 0.8665999993324279], 'loss': [0.5084701643625895, 0.3004595262050629, 0.21794473245143892, 0.1750387565612793, 0.14262313640117646, 0.1149463941415151, 0.09781807516415914, 0.08066852335135143, 0.06595052883227666, 0.05525786336263021, 0.045523741324742635, 0.03833971498608589, 0.029623024159669876, 0.024228817319869995, 0.017820990320543448, 0.016041170559326808, 0.010386648178100586, 0.011843788746992746, 0.0053430545369784034, 0.009020885624736548], 'acc': [0.7811333331743876, 0.9046666666984559, 0.9278666666030884, 0.9434666668891907, 0.9542666663805643, 0.965066666730245, 0.9709333334922791, 0.9763333334604899, 0.9819999999682109, 0.9855999999682109, 0.9886666669209798, 0.9915333335876465, 0.9934666666666667, 0.9949333333333333, 0.9977333333333334, 0.9978000002543131, 0.9990666666666667, 0.9973333333333333, 0.9997333335876465, 0.998]}\n",
      "dict_keys(['val_loss', 'val_acc', 'loss', 'acc'])\n"
     ]
    }
   ],
   "source": [
    "history_dict = history.history\n",
    "\n",
    "print(history_dict)\n",
    "print(history_dict.keys())"
   ]
  },
  {
   "cell_type": "markdown",
   "metadata": {},
   "source": [
    "## Plotting the training and validation loss"
   ]
  },
  {
   "cell_type": "code",
   "execution_count": 9,
   "metadata": {},
   "outputs": [
    {
     "data": {
      "text/plain": [
       "<Figure size 640x480 with 1 Axes>"
      ]
     },
     "metadata": {},
     "output_type": "display_data"
    }
   ],
   "source": [
    "import matplotlib.pyplot as plt\n",
    "\n",
    "loss_values = history_dict['loss']\n",
    "val_loss_values = history_dict['val_loss']\n",
    "\n",
    "epochs = range(1, 21)\n",
    "\n",
    "plt.plot(epochs, loss_values, 'bo', label='Training loss')\n",
    "plt.plot(epochs, val_loss_values, 'b', label='Validation loss')\n",
    "\n",
    "plt.title('Training and validation loss')\n",
    "plt.xlabel('Epochs')\n",
    "plt.ylabel('Loss')\n",
    "plt.legend()\n",
    "\n",
    "plt.show()"
   ]
  },
  {
   "cell_type": "markdown",
   "metadata": {},
   "source": [
    "## Plotting the training and validation accuracy"
   ]
  },
  {
   "cell_type": "code",
   "execution_count": 10,
   "metadata": {},
   "outputs": [
    {
     "data": {
      "image/png": "[encoded data removed]",
      "text/plain": [
       "<Figure size 432x288 with 1 Axes>"
      ]
     },
     "metadata": {},
     "output_type": "display_data"
    }
   ],
   "source": [
    "plt.clf()\n",
    "acc_values = history_dict['acc']\n",
    "val_acc_values = history_dict['val_acc']\n",
    "\n",
    "plt.plot(epochs, acc_values, 'bo', label='Training acc')\n",
    "plt.plot(epochs, val_acc_values, 'b', label='Validation acc')\n",
    "plt.title('Training and validation accuracy')\n",
    "plt.xlabel('Epochs')\n",
    "plt.ylabel('Accuracy')\n",
    "plt.legend()\n",
    "plt.show()"
   ]
  },
  {
   "cell_type": "markdown",
   "metadata": {},
   "source": [
    "You can see that after the fourth epoch, the model became overfitting\n",
    "\n",
    "## Retraining a model from scratch"
   ]
  },
  {
   "cell_type": "code",
   "execution_count": 11,
   "metadata": {
    "scrolled": true
   },
   "outputs": [
    {
     "name": "stdout",
     "output_type": "stream",
     "text": [
      "Epoch 1/4\n",
      "25000/25000 [==============================] - 2s 89us/step - loss: 0.4738 - acc: 0.8214\n",
      "Epoch 2/4\n",
      "25000/25000 [==============================] - 2s 86us/step - loss: 0.2673 - acc: 0.9091\n",
      "Epoch 3/4\n",
      "25000/25000 [==============================] - 2s 87us/step - loss: 0.2033 - acc: 0.9283\n",
      "Epoch 4/4\n",
      "25000/25000 [==============================] - 2s 86us/step - loss: 0.1714 - acc: 0.9384\n",
      "25000/25000 [==============================] - 3s 108us/step\n"
     ]
    }
   ],
   "source": [
    "model = models.Sequential()\n",
    "model.add(layers.Dense(16, activation='relu', input_shape=(10000,)))\n",
    "model.add(layers.Dense(16, activation='relu'))\n",
    "model.add(layers.Dense(1, activation='sigmoid'))\n",
    "model.compile(optimizer='rmsprop',\n",
    "loss='binary_crossentropy',\n",
    "metrics=['accuracy'])\n",
    "model.fit(x_train, y_train, epochs=4, batch_size=512)\n",
    "results = model.evaluate(x_test, y_test)"
   ]
  },
  {
   "cell_type": "code",
   "execution_count": 12,
   "metadata": {
    "scrolled": true
   },
   "outputs": [
    {
     "data": {
      "text/plain": [
       "[0.3115302325344086, 0.87616]"
      ]
     },
     "execution_count": 12,
     "metadata": {},
     "output_type": "execute_result"
    }
   ],
   "source": [
    "results"
   ]
  },
  {
   "cell_type": "markdown",
   "metadata": {},
   "source": [
    "## Using a trained network to generate predictions on new data"
   ]
  },
  {
   "cell_type": "code",
   "execution_count": 13,
   "metadata": {},
   "outputs": [
    {
     "data": {
      "text/plain": [
       "array([[0.16038847],\n",
       "       [0.99983764],\n",
       "       [0.3988123 ],\n",
       "       ...,\n",
       "       [0.0812938 ],\n",
       "       [0.04885972],\n",
       "       [0.452823  ]], dtype=float32)"
      ]
     },
     "execution_count": 13,
     "metadata": {},
     "output_type": "execute_result"
    }
   ],
   "source": [
    "model.predict(x_test)"
   ]
  },
  {
   "cell_type": "markdown",
   "metadata": {},
   "source": [
    "# Further experiments\n",
    "\n",
    "The following experiments will help convince you that the architecture choices you’ve made are all fairly reasonable, although there’s still room for improvement:\n",
    "- You used two hidden layers. Try using one or three hidden layers, and see how doing so affects validation and test accuracy.\n",
    "- Try using layers with more hidden units or fewer hidden units: 32 units, 64 units, and so on.\n",
    "- Try using the mse loss function instead of binary_crossentropy.\n",
    "- Try using the tanh activation (an activation that was popular in the early days of neural networks) instead of relu."
   ]
  },
  {
   "cell_type": "markdown",
   "metadata": {},
   "source": [
    "## Experiment 1: Using one hidden layer"
   ]
  },
  {
   "cell_type": "markdown",
   "metadata": {},
   "source": [
    "### Building the model"
   ]
  },
  {
   "cell_type": "code",
   "execution_count": 14,
   "metadata": {},
   "outputs": [],
   "source": [
    "model1 = models.Sequential()\n",
    "\n",
    "model1.add(layers.Dense(16, activation='relu', input_shape=(10000,)))\n",
    "model1.add(layers.Dense(1, activation='sigmoid'))"
   ]
  },
  {
   "cell_type": "markdown",
   "metadata": {},
   "source": [
    "### Compiling the model"
   ]
  },
  {
   "cell_type": "code",
   "execution_count": 15,
   "metadata": {},
   "outputs": [],
   "source": [
    "model1.compile(optimizer='rmsprop', loss='binary_crossentropy', metrics=['accuracy'])"
   ]
  },
  {
   "cell_type": "markdown",
   "metadata": {},
   "source": [
    "### Training the model"
   ]
  },
  {
   "cell_type": "code",
   "execution_count": 16,
   "metadata": {},
   "outputs": [
    {
     "name": "stdout",
     "output_type": "stream",
     "text": [
      "Train on 15000 samples, validate on 10000 samples\n",
      "Epoch 1/20\n",
      "15000/15000 [==============================] - 2s 133us/step - loss: 0.5050 - acc: 0.7990 - val_loss: 0.3995 - val_acc: 0.8667\n",
      "Epoch 2/20\n",
      "15000/15000 [==============================] - 2s 127us/step - loss: 0.3262 - acc: 0.9012 - val_loss: 0.3317 - val_acc: 0.8782\n",
      "Epoch 3/20\n",
      "15000/15000 [==============================] - 2s 129us/step - loss: 0.2527 - acc: 0.9245 - val_loss: 0.2939 - val_acc: 0.8877\n",
      "Epoch 4/20\n",
      "15000/15000 [==============================] - 2s 130us/step - loss: 0.2071 - acc: 0.9379 - val_loss: 0.2792 - val_acc: 0.8910\n",
      "Epoch 5/20\n",
      "15000/15000 [==============================] - 2s 133us/step - loss: 0.1750 - acc: 0.9463 - val_loss: 0.2752 - val_acc: 0.8899\n",
      "Epoch 6/20\n",
      "15000/15000 [==============================] - 2s 127us/step - loss: 0.1504 - acc: 0.9555 - val_loss: 0.2759 - val_acc: 0.8895\n",
      "Epoch 7/20\n",
      "15000/15000 [==============================] - 2s 130us/step - loss: 0.1321 - acc: 0.9620 - val_loss: 0.2815 - val_acc: 0.8880\n",
      "Epoch 8/20\n",
      "15000/15000 [==============================] - 2s 127us/step - loss: 0.1154 - acc: 0.9687 - val_loss: 0.2973 - val_acc: 0.8834\n",
      "Epoch 9/20\n",
      "15000/15000 [==============================] - 2s 130us/step - loss: 0.1029 - acc: 0.9717 - val_loss: 0.2975 - val_acc: 0.8850\n",
      "Epoch 10/20\n",
      "15000/15000 [==============================] - 2s 128us/step - loss: 0.0910 - acc: 0.9754 - val_loss: 0.3058 - val_acc: 0.8819\n",
      "Epoch 11/20\n",
      "15000/15000 [==============================] - 2s 130us/step - loss: 0.0808 - acc: 0.9791 - val_loss: 0.3221 - val_acc: 0.8828\n",
      "Epoch 12/20\n",
      "15000/15000 [==============================] - 2s 126us/step - loss: 0.0713 - acc: 0.9831 - val_loss: 0.3307 - val_acc: 0.8809\n",
      "Epoch 13/20\n",
      "15000/15000 [==============================] - 2s 131us/step - loss: 0.0639 - acc: 0.9860 - val_loss: 0.3436 - val_acc: 0.8808\n",
      "Epoch 14/20\n",
      "15000/15000 [==============================] - 2s 127us/step - loss: 0.0570 - acc: 0.9873 - val_loss: 0.3575 - val_acc: 0.8806\n",
      "Epoch 15/20\n",
      "15000/15000 [==============================] - 2s 131us/step - loss: 0.0490 - acc: 0.9908 - val_loss: 0.3731 - val_acc: 0.8774\n",
      "Epoch 16/20\n",
      "15000/15000 [==============================] - 2s 127us/step - loss: 0.0441 - acc: 0.9919 - val_loss: 0.3913 - val_acc: 0.8769\n",
      "Epoch 17/20\n",
      "15000/15000 [==============================] - 2s 128us/step - loss: 0.0383 - acc: 0.9930 - val_loss: 0.4225 - val_acc: 0.8749\n",
      "Epoch 18/20\n",
      "15000/15000 [==============================] - 2s 127us/step - loss: 0.0340 - acc: 0.9948 - val_loss: 0.4495 - val_acc: 0.8717\n",
      "Epoch 19/20\n",
      "15000/15000 [==============================] - 2s 133us/step - loss: 0.0294 - acc: 0.9954 - val_loss: 0.4436 - val_acc: 0.8710\n",
      "Epoch 20/20\n",
      "15000/15000 [==============================] - 2s 127us/step - loss: 0.0256 - acc: 0.9968 - val_loss: 0.4618 - val_acc: 0.8725\n"
     ]
    }
   ],
   "source": [
    "history1 = model1.fit(partial_x_train, partial_y_train, epochs=20, batch_size=512, validation_data=(x_val, y_val))"
   ]
  },
  {
   "cell_type": "markdown",
   "metadata": {},
   "source": [
    "### Plotting the training and validation loss"
   ]
  },
  {
   "cell_type": "code",
   "execution_count": 17,
   "metadata": {},
   "outputs": [
    {
     "data": {
      "image/png": "[encoded data removed]",
      "text/plain": [
       "<Figure size 432x288 with 1 Axes>"
      ]
     },
     "metadata": {},
     "output_type": "display_data"
    }
   ],
   "source": [
    "import matplotlib.pyplot as plt\n",
    "\n",
    "history_dict = history1.history\n",
    "\n",
    "loss_values = history_dict['loss']\n",
    "val_loss_values = history_dict['val_loss']\n",
    "\n",
    "epochs = range(1, 21)\n",
    "\n",
    "plt.plot(epochs, loss_values, 'bo', label='Training loss')\n",
    "plt.plot(epochs, val_loss_values, 'b', label='Validation loss')\n",
    "\n",
    "plt.title('Training and validation loss')\n",
    "plt.xlabel('Epochs')\n",
    "plt.ylabel('Loss')\n",
    "plt.legend()\n",
    "\n",
    "plt.show()"
   ]
  },
  {
   "cell_type": "markdown",
   "metadata": {},
   "source": [
    "### Plotting the training and validation accuracy"
   ]
  },
  {
   "cell_type": "code",
   "execution_count": 18,
   "metadata": {},
   "outputs": [
    {
     "data": {
      "image/png": "[encoded data removed]",
      "text/plain": [
       "<Figure size 432x288 with 1 Axes>"
      ]
     },
     "metadata": {},
     "output_type": "display_data"
    }
   ],
   "source": [
    "acc_values = history_dict['acc']\n",
    "val_acc_values = history_dict['val_acc']\n",
    "\n",
    "plt.plot(epochs, acc_values, 'bo', label='Training acc')\n",
    "plt.plot(epochs, val_acc_values, 'b', label='Validation acc')\n",
    "plt.title('Training and validation accuracy')\n",
    "plt.xlabel('Epochs')\n",
    "plt.ylabel('Accuracy')\n",
    "plt.legend()\n",
    "plt.show()"
   ]
  },
  {
   "cell_type": "markdown",
   "metadata": {},
   "source": [
    "### Note\n",
    "Accuracy is very high.\n",
    "\n",
    "This model converge too fast that just after 1 epochs,it became overfitting.\n"
   ]
  },
  {
   "cell_type": "markdown",
   "metadata": {},
   "source": [
    "## Retraining the model"
   ]
  },
  {
   "cell_type": "code",
   "execution_count": 19,
   "metadata": {},
   "outputs": [
    {
     "name": "stdout",
     "output_type": "stream",
     "text": [
      "Epoch 1/4\n",
      "25000/25000 [==============================] - 2s 86us/step - loss: 0.1935 - acc: 0.9470\n",
      "Epoch 2/4\n",
      "25000/25000 [==============================] - 2s 86us/step - loss: 0.1450 - acc: 0.9572\n",
      "Epoch 3/4\n",
      "25000/25000 [==============================] - 2s 85us/step - loss: 0.1224 - acc: 0.9627\n",
      "Epoch 4/4\n",
      "25000/25000 [==============================] - 2s 86us/step - loss: 0.1043 - acc: 0.9684\n"
     ]
    },
    {
     "data": {
      "text/plain": [
       "<keras.callbacks.History at 0x7fe45979dda0>"
      ]
     },
     "execution_count": 19,
     "metadata": {},
     "output_type": "execute_result"
    }
   ],
   "source": [
    "model1.fit(x_train, y_train, epochs=4, batch_size=512)"
   ]
  },
  {
   "cell_type": "code",
   "execution_count": 20,
   "metadata": {},
   "outputs": [
    {
     "name": "stdout",
     "output_type": "stream",
     "text": [
      "25000/25000 [==============================] - 2s 99us/step\n"
     ]
    },
    {
     "data": {
      "text/plain": [
       "[0.08373737607777118, 0.9766]"
      ]
     },
     "execution_count": 20,
     "metadata": {},
     "output_type": "execute_result"
    }
   ],
   "source": [
    "model1.evaluate(x_train, y_train)"
   ]
  },
  {
   "cell_type": "markdown",
   "metadata": {},
   "source": [
    "## Experiment 2: Using 5 layers"
   ]
  },
  {
   "cell_type": "code",
   "execution_count": 21,
   "metadata": {},
   "outputs": [],
   "source": [
    "model2 = models.Sequential()\n",
    "\n",
    "model2.add(layers.Dense(16, activation='relu', input_shape=(10000,)))\n",
    "model2.add(layers.Dense(16, activation='relu'))\n",
    "model2.add(layers.Dense(16, activation='relu'))\n",
    "model2.add(layers.Dense(16, activation='relu'))\n",
    "model2.add(layers.Dense(16, activation='relu'))\n",
    "model2.add(layers.Dense(1, activation='sigmoid'))"
   ]
  },
  {
   "cell_type": "code",
   "execution_count": 22,
   "metadata": {},
   "outputs": [],
   "source": [
    "model2.compile(optimizer='rmsprop', loss='binary_crossentropy', metrics=['accuracy'])"
   ]
  },
  {
   "cell_type": "code",
   "execution_count": 23,
   "metadata": {
    "scrolled": true
   },
   "outputs": [
    {
     "name": "stdout",
     "output_type": "stream",
     "text": [
      "Train on 15000 samples, validate on 10000 samples\n",
      "Epoch 1/20\n",
      "15000/15000 [==============================] - 2s 140us/step - loss: 0.5486 - acc: 0.7653 - val_loss: 0.3935 - val_acc: 0.8601\n",
      "Epoch 2/20\n",
      "15000/15000 [==============================] - 2s 126us/step - loss: 0.2986 - acc: 0.8971 - val_loss: 0.3260 - val_acc: 0.8698\n",
      "Epoch 3/20\n",
      "15000/15000 [==============================] - 2s 131us/step - loss: 0.2138 - acc: 0.9255 - val_loss: 0.2823 - val_acc: 0.8907\n",
      "Epoch 4/20\n",
      "15000/15000 [==============================] - 2s 128us/step - loss: 0.1619 - acc: 0.9423 - val_loss: 0.3413 - val_acc: 0.8683\n",
      "Epoch 5/20\n",
      "15000/15000 [==============================] - 2s 132us/step - loss: 0.1308 - acc: 0.9558 - val_loss: 0.3992 - val_acc: 0.8651\n",
      "Epoch 6/20\n",
      "15000/15000 [==============================] - 2s 130us/step - loss: 0.1071 - acc: 0.9665 - val_loss: 0.3403 - val_acc: 0.8818\n",
      "Epoch 7/20\n",
      "15000/15000 [==============================] - 2s 132us/step - loss: 0.0798 - acc: 0.9755 - val_loss: 0.3693 - val_acc: 0.8791\n",
      "Epoch 8/20\n",
      "15000/15000 [==============================] - 2s 127us/step - loss: 0.0709 - acc: 0.9773 - val_loss: 0.4109 - val_acc: 0.8781\n",
      "Epoch 9/20\n",
      "15000/15000 [==============================] - 2s 133us/step - loss: 0.0674 - acc: 0.9805 - val_loss: 0.4329 - val_acc: 0.8745\n",
      "Epoch 10/20\n",
      "15000/15000 [==============================] - 2s 128us/step - loss: 0.0580 - acc: 0.9816 - val_loss: 0.4530 - val_acc: 0.8770\n",
      "Epoch 11/20\n",
      "15000/15000 [==============================] - 2s 133us/step - loss: 0.0218 - acc: 0.9963 - val_loss: 0.5595 - val_acc: 0.8667\n",
      "Epoch 12/20\n",
      "15000/15000 [==============================] - 2s 130us/step - loss: 0.0341 - acc: 0.9911 - val_loss: 0.5404 - val_acc: 0.8745\n",
      "Epoch 13/20\n",
      "15000/15000 [==============================] - 2s 131us/step - loss: 0.0476 - acc: 0.9877 - val_loss: 0.5725 - val_acc: 0.8713\n",
      "Epoch 14/20\n",
      "15000/15000 [==============================] - 2s 129us/step - loss: 0.0073 - acc: 0.9991 - val_loss: 0.6794 - val_acc: 0.8599\n",
      "Epoch 15/20\n",
      "15000/15000 [==============================] - 2s 133us/step - loss: 0.0357 - acc: 0.9909 - val_loss: 0.6299 - val_acc: 0.8726\n",
      "Epoch 16/20\n",
      "15000/15000 [==============================] - 2s 129us/step - loss: 0.0044 - acc: 0.9995 - val_loss: 0.6948 - val_acc: 0.8696\n",
      "Epoch 17/20\n",
      "15000/15000 [==============================] - 2s 133us/step - loss: 0.0492 - acc: 0.9906 - val_loss: 0.7390 - val_acc: 0.8684\n",
      "Epoch 18/20\n",
      "15000/15000 [==============================] - 2s 129us/step - loss: 0.0022 - acc: 0.9997 - val_loss: 0.7639 - val_acc: 0.8688\n",
      "Epoch 19/20\n",
      "15000/15000 [==============================] - 2s 131us/step - loss: 0.0017 - acc: 0.9997 - val_loss: 0.8214 - val_acc: 0.8684\n",
      "Epoch 20/20\n",
      "15000/15000 [==============================] - 2s 128us/step - loss: 0.0311 - acc: 0.9929 - val_loss: 0.8669 - val_acc: 0.8689\n"
     ]
    }
   ],
   "source": [
    "history2 = model2.fit(partial_x_train, partial_y_train, epochs=20, batch_size=512, validation_data=(x_val, y_val))"
   ]
  },
  {
   "cell_type": "code",
   "execution_count": 24,
   "metadata": {},
   "outputs": [
    {
     "data": {
      "image/png": "[encoded data removed]",
      "text/plain": [
       "<Figure size 432x288 with 1 Axes>"
      ]
     },
     "metadata": {},
     "output_type": "display_data"
    }
   ],
   "source": [
    "import matplotlib.pyplot as plt\n",
    "\n",
    "history_dict = history2.history\n",
    "\n",
    "loss_values = history_dict['loss']\n",
    "val_loss_values = history_dict['val_loss']\n",
    "\n",
    "epochs = range(1, 21)\n",
    "\n",
    "plt.plot(epochs, loss_values, 'bo', label='Training loss')\n",
    "plt.plot(epochs, val_loss_values, 'b', label='Validation loss')\n",
    "\n",
    "plt.title('Training and validation loss')\n",
    "plt.xlabel('Epochs')\n",
    "plt.ylabel('Loss')\n",
    "plt.legend()\n",
    "\n",
    "plt.show()"
   ]
  },
  {
   "cell_type": "code",
   "execution_count": 25,
   "metadata": {},
   "outputs": [
    {
     "data": {
      "image/png": "[encoded data removed]",
      "text/plain": [
       "<Figure size 432x288 with 1 Axes>"
      ]
     },
     "metadata": {},
     "output_type": "display_data"
    }
   ],
   "source": [
    "acc_values = history_dict['acc']\n",
    "val_acc_values = history_dict['val_acc']\n",
    "\n",
    "plt.plot(epochs, acc_values, 'bo', label='Training acc')\n",
    "plt.plot(epochs, val_acc_values, 'b', label='Validation acc')\n",
    "plt.title('Training and validation accuracy')\n",
    "plt.xlabel('Epochs')\n",
    "plt.ylabel('Accuracy')\n",
    "plt.legend()\n",
    "plt.show()"
   ]
  },
  {
   "cell_type": "markdown",
   "metadata": {},
   "source": [
    "### Retraining the model"
   ]
  },
  {
   "cell_type": "code",
   "execution_count": 26,
   "metadata": {
    "scrolled": true
   },
   "outputs": [
    {
     "name": "stdout",
     "output_type": "stream",
     "text": [
      "Epoch 1/4\n",
      "25000/25000 [==============================] - 2s 87us/step - loss: 0.1452 - acc: 0.9500\n",
      "Epoch 2/4\n",
      "25000/25000 [==============================] - 2s 89us/step - loss: 0.1285 - acc: 0.9550\n",
      "Epoch 3/4\n",
      "25000/25000 [==============================] - 2s 86us/step - loss: 0.1123 - acc: 0.9616\n",
      "Epoch 4/4\n",
      "25000/25000 [==============================] - 2s 86us/step - loss: 0.0971 - acc: 0.9683\n",
      "25000/25000 [==============================] - 2s 100us/step\n"
     ]
    }
   ],
   "source": [
    "model.fit(x_train, y_train, epochs=4, batch_size=512)\n",
    "results = model.evaluate(x_test, y_test)"
   ]
  },
  {
   "cell_type": "code",
   "execution_count": 27,
   "metadata": {},
   "outputs": [
    {
     "data": {
      "text/plain": [
       "[0.37310753056526186, 0.87156]"
      ]
     },
     "execution_count": 27,
     "metadata": {},
     "output_type": "execute_result"
    }
   ],
   "source": [
    "results"
   ]
  }
 ],
 "metadata": {
  "kernelspec": {
   "display_name": "Python 3",
   "language": "python",
   "name": "python3"
  },
  "language_info": {
   "codemirror_mode": {
    "name": "ipython",
    "version": 3
   },
   "file_extension": ".py",
   "mimetype": "text/x-python",
   "name": "python",
   "nbconvert_exporter": "python",
   "pygments_lexer": "ipython3",
   "version": "3.6.5"
  }
 },
 "nbformat": 4,
 "nbformat_minor": 2
}

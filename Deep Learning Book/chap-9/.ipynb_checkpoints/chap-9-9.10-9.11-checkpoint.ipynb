{
 "cells": [
  {
   "cell_type": "markdown",
   "metadata": {},
   "source": [
    "## The Neuroscientific Basis for Convolutional Networks\n",
    "\n",
    "Convolutional networks: \n",
    "- biologically inspired AI\n",
    "- key design principles drawn from neuroscience\n",
    "- begin with neuroscientific experiments \n",
    "        -  David Hubel and Torsten Wiesel: basic facts about how the mammalian vision system works -> Nobel prize\n",
    "            - recording the activity of individual neurons in cats.\n",
    "            - observed how neurons in the cat’s brain responded to images projected in precise locations on a screen in front of the cat.\n",
    "        - ->  neurons in the early visual system responded most strongly to very specific patterns of light, such as precisely oriented bars, but responded hardly at all to other patterns.\n",
    "       \n",
    "we focus on a part of the brain called V1, also known as the primary visual cortex\n",
    "![V1](v1.jpg)\n",
    "\n",
    "V1 is the first area of the brain that begins to perform significantly advanced processing of visual input.\n",
    "\n",
    "Images -> light -> retina (perform some simple preprocessing of the image but do not substantially alter the way it is represented.)\n",
    "\n",
    "A convolutional network layer is designed to capture three properties of V1:\n",
    "- V1 is arranged in a spatial map (bản đồ không gian). It actually has a 2D structure mirroring the structure of the image in the retina\n",
    "- V1 contains many **simple cells** and **complex cells**\n",
    "- \"grandmother\" cells have been shown to actually exist in the human brain, in a region called the medial temporal lobe \n",
    "\n",
    "There are many differences between convolutional networks and the mammalian vision system:\n",
    "- The human eye is mostly very low resolution, except for a tiny patch called the fovea.  Most convolutional networks actually receive large full resolution photographs as input.\n",
    "- Convolutional networks are purely visual (not include mood or thoughs,...)\n",
    "- The human visual system does much more than just recognize objects\n",
    "\n",
    "Reverse correlation shows us that most V1 cells have weights that are described by Gabor functions.\n",
    "\n",
    "The response of a simple cell to an image:\n",
    "\n",
    "$s(I) = \\sum_{x \\in \\mathcal{X}} \\sum_{y \\in \\mathcal{Y}} w(x, y) I(x, y)$"
   ]
  }
 ],
 "metadata": {
  "kernelspec": {
   "display_name": "Python 3",
   "language": "python",
   "name": "python3"
  },
  "language_info": {
   "codemirror_mode": {
    "name": "ipython",
    "version": 3
   },
   "file_extension": ".py",
   "mimetype": "text/x-python",
   "name": "python",
   "nbconvert_exporter": "python",
   "pygments_lexer": "ipython3",
   "version": "3.6.5"
  }
 },
 "nbformat": 4,
 "nbformat_minor": 2
}

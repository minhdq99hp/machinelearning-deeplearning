{
 "cells": [
  {
   "cell_type": "markdown",
   "metadata": {},
   "source": [
    "## What is XOR ?\n",
    "A binary operator\n",
    "\n",
    "## Choosing model\n",
    "\n",
    "### Linear model ?\n",
    "We have MSE loss function. We have the form of the model: $f(\\mathbf{x}; \\mathbf{w}, b) = \\mathbf{x}^T \\mathbf{w} + b$\n",
    "\n",
    "A linear model **is not able** to represent the XOR function. \n",
    "\n",
    "### Solution\n",
    "One way to solve this problem is to use a model that learns a different feature space in which a linear model is able to represent the solution\n",
    "\n",
    "The complete model:\n",
    "\n",
    "$\\mathbf{h} = f^{(1)}(\\mathbf{x}; \\mathbf{W} , \\mathbf{c})$ \n",
    "\n",
    "$y = f^{(2)}(\\mathbf{h}; \\mathbf{w}, b)$\n",
    "\n",
    "$y = f(\\mathbf{x}; \\mathbf{W}, c, w, b) = f^{(2)}(f^{(1)})(\\mathbf{x}))$\n",
    "\n",
    "We need a nonlinear function to describe the features. -> **affine transformation** as activation function\n",
    "\n",
    "$h = g(\\mathbf{W}^{T} \\mathbf{x} + c)$\n",
    "\n",
    "The recommendation is to use the **rectified linear unit** or ReLU. $g(z) = max\\{0, z\\}$\n",
    "\n",
    "#### The complete model:\n",
    "$f(\\mathbf{x}; \\mathbf{W}, \\mathbf{c}, w, b) = w^T max\\{0, \\mathbf{W}^T \\mathbf{x}\\ + c\\} + b$\n",
    "\n",
    "## Implementation in Python"
   ]
  },
  {
   "cell_type": "code",
   "execution_count": 6,
   "metadata": {},
   "outputs": [
    {
     "name": "stdout",
     "output_type": "stream",
     "text": [
      "[[0]\n",
      " [1]\n",
      " [1]\n",
      " [0]]\n"
     ]
    }
   ],
   "source": [
    "import numpy as np\n",
    "\n",
    "\n",
    "\n",
    "# input\n",
    "X = np.matrix([[0,0],[0,1],[1,0],[1,1]])\n",
    "\n",
    "# function\n",
    "def xor(input):\n",
    "    # parameters\n",
    "    W = np.matrix([[1,1],[1,1]])\n",
    "    c = np.matrix([0,-1])\n",
    "    w = np.matrix([1,-2]).T\n",
    "    b = 0\n",
    "    \n",
    "    # rectified linear unit\n",
    "    h = np.maximum(X * W + c, 0)\n",
    "    \n",
    "    output = h * w + b\n",
    "    \n",
    "    return output\n",
    "\n",
    "print(xor(X))\n"
   ]
  }
 ],
 "metadata": {
  "kernelspec": {
   "display_name": "Python 3",
   "language": "python",
   "name": "python3"
  },
  "language_info": {
   "codemirror_mode": {
    "name": "ipython",
    "version": 3
   },
   "file_extension": ".py",
   "mimetype": "text/x-python",
   "name": "python",
   "nbconvert_exporter": "python",
   "pygments_lexer": "ipython3",
   "version": "3.6.4"
  }
 },
 "nbformat": 4,
 "nbformat_minor": 2
}
